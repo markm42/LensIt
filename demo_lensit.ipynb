{
 "cells": [
  {
   "cell_type": "markdown",
   "metadata": {},
   "source": [
    "# Iterative lensing estimation demo (CMB-S4).\n",
    "\n",
    "This notebook goes through an example of lensing iterative reconstruction, from polarization Q and U CMB data, with noise level of 2.12 $\\mu$K-arcmin, on 650 square degrees, under ideal conditions (no masking, homogeneous noise, etc), with pixel size 1.5 arcmin. Specifically, we proceed as follows\n",
    "1. We build the quadratic estimator and initial curvature estimates\n",
    "2. We setup the iterator instance\n",
    "3. We perform the iterations\n",
    "4. We have a quick look at the quality of the lensing map reconstruction\n",
    "\n",
    "It should take or minute or so to perform all iterations from the starting point.\n",
    "\n",
    "Before starting, set the environment variable LENSIT to somewhere that is safe to write. A bunch of stuff might get cached."
   ]
  },
  {
   "cell_type": "code",
   "execution_count": 1,
   "metadata": {},
   "outputs": [],
   "source": [
    "%matplotlib inline\n",
    "import pylab as pl\n",
    "import numpy as np\n",
    "import lensit as li\n",
    "import os"
   ]
  },
  {
   "cell_type": "markdown",
   "metadata": {},
   "source": [
    "### 1. We build the quadratic estimator and initial curvature estimates:"
   ]
  },
  {
   "cell_type": "code",
   "execution_count": 2,
   "metadata": {},
   "outputs": [
    {
     "name": "stdout",
     "output_type": "stream",
     "text": [
      " [00:02:34] Generating CMB phases ---------> 99%\n",
      " [00:00:28] Generating Noise phases ---------> 99%\n",
      " I will be using data from ell=14 to ell=3000 only\n",
      " The sky band-limit is ell=6000\n",
      "  lensit.ffs_covs.ffs_cov   [00:00:00]  (total [00:00:00])   inverse len Pmats  curvpOlm \n",
      "  lensit.ffs_covs.ffs_cov   [00:00:02]  (total [00:00:02])   Fxx , part 1  curvpOlm \n",
      "  lensit.ffs_covs.ffs_cov   [00:00:02]  (total [00:00:04])   Fyy , part 1  curvpOlm \n",
      "  lensit.ffs_covs.ffs_cov   [00:00:03]  (total [00:00:07])   Fxy , part 1  curvpOlm \n",
      "  lensit.ffs_covs.ffs_cov   [00:00:03]  (total [00:00:11])   Fxx , part 2  curvpOlm \n",
      "  lensit.ffs_covs.ffs_cov   [00:00:03]  (total [00:00:14])   Fyy , part 2  curvpOlm \n",
      "  lensit.ffs_covs.ffs_cov   [00:00:04]  (total [00:00:18])   Fxy , part 2  curvpOlm \n",
      "     [00:00:19]  (total [00:00:19])   get_qlm_resplm:: get curvature matrices  \n",
      "     [00:00:00]  (total [00:00:19])   get_qlm_resplm:: inversion  \n",
      "     _get_pmati:: cached /Users/jcarron/PyCharmProjects/lensit/temp/Covs/S4/LD10HD11/QU_Pmatinv_len_00.npy\n",
      "     _get_pmati:: cached /Users/jcarron/PyCharmProjects/lensit/temp/Covs/S4/LD10HD11/QU_Pmatinv_len_10.npy\n",
      "     _get_pmati:: cached /Users/jcarron/PyCharmProjects/lensit/temp/Covs/S4/LD10HD11/QU_Pmatinv_len_11.npy\n",
      "     [00:00:00]  (total [00:00:00])   get_qlms::mult with len Pmat  \n",
      "     [00:00:00]  (total [00:00:01])   get_qlms::cartesian gradients  \n",
      "     [00:00:00]  (total [00:00:01])   get_qlms::rotation to phi Omega  \n",
      "  lensit.ffs_covs.ffs_cov   [00:00:00]  (total [00:00:00])   inverse unl Pmats  curvpOlm \n",
      "  lensit.ffs_covs.ffs_cov   [00:00:02]  (total [00:00:03])   Fxx , part 1  curvpOlm \n",
      "  lensit.ffs_covs.ffs_cov   [00:00:02]  (total [00:00:06])   Fyy , part 1  curvpOlm \n",
      "  lensit.ffs_covs.ffs_cov   [00:00:03]  (total [00:00:09])   Fxy , part 1  curvpOlm \n",
      "  lensit.ffs_covs.ffs_cov   [00:00:03]  (total [00:00:13])   Fxx , part 2  curvpOlm \n",
      "  lensit.ffs_covs.ffs_cov   [00:00:04]  (total [00:00:17])   Fyy , part 2  curvpOlm \n",
      "  lensit.ffs_covs.ffs_cov   [00:00:04]  (total [00:00:22])   Fxy , part 2  curvpOlm \n",
      "     [00:00:23]  (total [00:00:23])   get_qlm_resplm:: get curvature matrices  \n",
      "     [00:00:00]  (total [00:00:23])   get_qlm_resplm:: inversion  \n"
     ]
    }
   ],
   "source": [
    "def get_starting_point(idx): \n",
    "    \"\"\"\n",
    "    This returns initial data for simulation index 'idx' from a CMB-S4 simulation library.\n",
    "    On first call the simulation library will generate all simulations phases, hence might take a little while.\n",
    "    \"\"\" \n",
    "    sims = li.get_maps_lib('S4', 10, 11) # Simulation-library for configuration 'S4'. \n",
    "                                         # Parameters 10, 11 produces data on 645 sq. deg, \n",
    "                                         # with lensed CMB's generated at 0.75 arcmin resolution, \n",
    "                                         # but data collected at 1.5 arcmin resolution. \n",
    "    \n",
    "    isocov = li.get_isocov('S4', 10, 11) # Isotropic filtering instance, that can used for Q.E. calculation\n",
    "                                         # and other things.isocov.lib_datalm defines the mode-filtering applied \n",
    "                                         # the data, and isocov.lib_skyalm the band-limits of the unlensed sky.\n",
    "    print(\" I will be using data from ell=%s to ell=%s only\"%(isocov.lib_datalm.ellmin, isocov.lib_datalm.ellmax))\n",
    "    print(\" The sky band-limit is ell=%s\"%(isocov.lib_skyalm.ellmax))\n",
    "    \n",
    "    lib_qlm = isocov.lib_skyalm #: This means we will reconstruct the lensing potential for all unlensed sky modes.\n",
    "    def cli(cl):\n",
    "        ret = np.zeros_like(cl)\n",
    "        ret[np.where(cl > 0)] = 1./cl[np.where(cl > 0)]\n",
    "        return ret\n",
    "    \n",
    "    # We now build the Wiener-filtered quadratic estimator. We use lensed CMB spectra in the weights.\n",
    "    datalms = np.array([isocov.lib_datalm.map2alm(m) for m in sims.get_sim_qumap(idx)]) \n",
    "    H0len =  cli(isocov.get_N0cls('QU', lib_qlm, use_cls_len=True)[0])\n",
    "    plm0 = 0.5 * isocov.get_qlms('QU',  isocov.get_iblms('QU', datalms, use_cls_len=True)[0], lib_qlm, \n",
    "                                 use_cls_len=True)[0]\n",
    "    \n",
    "    # Normalization and Wiener-filtering:\n",
    "    cpp_prior = li.get_fidcls()[0]['pp'][:lib_qlm.ellmax+1]\n",
    "    lib_qlm.almxfl(plm0, cli(H0len + cli(cpp_prior)), inplace=True)\n",
    "    \n",
    "    # Initial likelihood curvature guess. We use here N0 as calculated with unlensed CMB spectra:\n",
    "    H0unl =  cli(isocov.get_N0cls('QU', lib_qlm, use_cls_len=False)[0])\n",
    "    return plm0, lib_qlm, datalms, isocov.lib_datalm, H0unl, H0len\n",
    "\n",
    "plm0, lib_qlm, datalms, lib_datalm, H0, H0len = get_starting_point(0)"
   ]
  },
  {
   "cell_type": "markdown",
   "metadata": {},
   "source": [
    "### 2. We setup the iterator instance:"
   ]
  },
  {
   "cell_type": "code",
   "execution_count": 3,
   "metadata": {},
   "outputs": [
    {
     "name": "stdout",
     "output_type": "stream",
     "text": [
      " I see t 1.5\n",
      " I see q 2.121320343559643\n",
      " I see u 2.121320343559643\n",
      "ffs iterator : This is 0 trying to setup /Users/jcarron/PyCharmProjects/lensit/temp/iterator_S4_sim000\n",
      "++ ffs_QU masked iterator : setup OK\n",
      "ERROR: HASHCHECK FAIL AT KEY = cls_unl bb\n",
      "    UNEQUAL VALUES\n",
      "    V1 =  ed5238191a97949220cd5b1aebdeb50ff407e130\n",
      "    V2 =  8e2e9e548d81d609f390060401213f315ca64fa3\n"
     ]
    },
    {
     "ename": "AssertionError",
     "evalue": "",
     "output_type": "error",
     "traceback": [
      "\u001b[0;31m---------------------------------------------------------------------------\u001b[0m",
      "\u001b[0;31mAssertionError\u001b[0m                            Traceback (most recent call last)",
      "\u001b[0;32m<ipython-input-3-7c0c8c2c34dc>\u001b[0m in \u001b[0;36m<module>\u001b[0;34m\u001b[0m\n\u001b[1;32m     42\u001b[0m \u001b[0;34m\u001b[0m\u001b[0m\n\u001b[1;32m     43\u001b[0m \u001b[0mlib_dir\u001b[0m \u001b[0;34m=\u001b[0m \u001b[0mos\u001b[0m\u001b[0;34m.\u001b[0m\u001b[0mpath\u001b[0m\u001b[0;34m.\u001b[0m\u001b[0mjoin\u001b[0m\u001b[0;34m(\u001b[0m\u001b[0mos\u001b[0m\u001b[0;34m.\u001b[0m\u001b[0menviron\u001b[0m\u001b[0;34m[\u001b[0m\u001b[0;34m'LENSIT'\u001b[0m\u001b[0;34m]\u001b[0m\u001b[0;34m,\u001b[0m \u001b[0;34m'temp'\u001b[0m\u001b[0;34m,\u001b[0m \u001b[0;34m'iterator_S4_sim%03d'\u001b[0m\u001b[0;34m%\u001b[0m\u001b[0;36m0\u001b[0m\u001b[0;34m)\u001b[0m\u001b[0;34m\u001b[0m\u001b[0;34m\u001b[0m\u001b[0m\n\u001b[0;32m---> 44\u001b[0;31m \u001b[0mitlib\u001b[0m \u001b[0;34m=\u001b[0m \u001b[0mget_itlib\u001b[0m\u001b[0;34m(\u001b[0m\u001b[0mlib_dir\u001b[0m\u001b[0;34m,\u001b[0m \u001b[0mplm0\u001b[0m\u001b[0;34m,\u001b[0m \u001b[0mlib_qlm\u001b[0m\u001b[0;34m,\u001b[0m \u001b[0mdatalms\u001b[0m\u001b[0;34m,\u001b[0m \u001b[0mlib_datalm\u001b[0m\u001b[0;34m,\u001b[0m \u001b[0mH0\u001b[0m\u001b[0;34m)\u001b[0m\u001b[0;34m\u001b[0m\u001b[0;34m\u001b[0m\u001b[0m\n\u001b[0m",
      "\u001b[0;32m<ipython-input-3-7c0c8c2c34dc>\u001b[0m in \u001b[0;36mget_itlib\u001b[0;34m(lib_dir, plm0, lib_qlm, datalms, lib_datalm, H0, beam_fwhmamin, NlevT_filt, NlevP_filt)\u001b[0m\n\u001b[1;32m     35\u001b[0m     \u001b[0;31m# With all this now in place, we can build the iterator instance:\u001b[0m\u001b[0;34m\u001b[0m\u001b[0;34m\u001b[0m\u001b[0;34m\u001b[0m\u001b[0m\n\u001b[1;32m     36\u001b[0m     iterator = ffs_iterator_pertMF(lib_dir, 'QU', filt, datalms, lib_qlm, \n\u001b[0;32m---> 37\u001b[0;31m               plm0, H0, cpp_prior, chain_descr=chain_descr, opfilt=opfilt, verbose=True)\n\u001b[0m\u001b[1;32m     38\u001b[0m                \u001b[0;31m# We use here an iterator instance that uses an analytical approximation\u001b[0m\u001b[0;34m\u001b[0m\u001b[0;34m\u001b[0m\u001b[0;34m\u001b[0m\u001b[0m\n\u001b[1;32m     39\u001b[0m                \u001b[0;31m# for the mean-field term at each step.\u001b[0m\u001b[0;34m\u001b[0m\u001b[0;34m\u001b[0m\u001b[0;34m\u001b[0m\u001b[0m\n",
      "\u001b[0;32m~/PycharmProjects/lensit/lensit/ffs_iterators/ffs_iterator.py\u001b[0m in \u001b[0;36m__init__\u001b[0;34m(self, lib_dir, _type, cov, dat_maps, lib_qlm, Plm0, H0, cpp_prior, init_rank, init_barrier, **kwargs)\u001b[0m\n\u001b[1;32m    648\u001b[0m                                                           \u001b[0mcov\u001b[0m\u001b[0;34m.\u001b[0m\u001b[0mlib_skyalm\u001b[0m\u001b[0;34m,\u001b[0m \u001b[0mcov\u001b[0m\u001b[0;34m.\u001b[0m\u001b[0mcls\u001b[0m\u001b[0;34m,\u001b[0m \u001b[0mcov\u001b[0m\u001b[0;34m.\u001b[0m\u001b[0mcls\u001b[0m\u001b[0;34m,\u001b[0m \u001b[0mcov\u001b[0m\u001b[0;34m.\u001b[0m\u001b[0mcl_transf\u001b[0m\u001b[0;34m,\u001b[0m \u001b[0mcls_noise\u001b[0m\u001b[0;34m,\u001b[0m\u001b[0;34m\u001b[0m\u001b[0;34m\u001b[0m\u001b[0m\n\u001b[1;32m    649\u001b[0m                                                           \u001b[0mlib_skyalm\u001b[0m\u001b[0;34m=\u001b[0m\u001b[0mcov\u001b[0m\u001b[0;34m.\u001b[0m\u001b[0mlib_skyalm\u001b[0m\u001b[0;34m,\u001b[0m \u001b[0minit_rank\u001b[0m\u001b[0;34m=\u001b[0m\u001b[0minit_rank\u001b[0m\u001b[0;34m,\u001b[0m\u001b[0;34m\u001b[0m\u001b[0;34m\u001b[0m\u001b[0m\n\u001b[0;32m--> 650\u001b[0;31m                                                           init_barrier=init_barrier)\n\u001b[0m\u001b[1;32m    651\u001b[0m         \u001b[0;31m# FIXME : could simply cache the response...\u001b[0m\u001b[0;34m\u001b[0m\u001b[0;34m\u001b[0m\u001b[0;34m\u001b[0m\u001b[0m\n\u001b[1;32m    652\u001b[0m \u001b[0;34m\u001b[0m\u001b[0m\n",
      "\u001b[0;32m~/PycharmProjects/lensit/lensit/ffs_covs/ffs_cov.py\u001b[0m in \u001b[0;36m__init__\u001b[0;34m(self, lib_dir, lib_datalm, cls_unl, cls_len, cl_transf, cls_noise, lib_skyalm, init_rank, init_barrier)\u001b[0m\n\u001b[1;32m     90\u001b[0m             \u001b[0mpk\u001b[0m\u001b[0;34m.\u001b[0m\u001b[0mdump\u001b[0m\u001b[0;34m(\u001b[0m\u001b[0mself\u001b[0m\u001b[0;34m.\u001b[0m\u001b[0mhashdict\u001b[0m\u001b[0;34m(\u001b[0m\u001b[0;34m)\u001b[0m\u001b[0;34m,\u001b[0m \u001b[0mopen\u001b[0m\u001b[0;34m(\u001b[0m\u001b[0mfn\u001b[0m\u001b[0;34m,\u001b[0m \u001b[0;34m'wb'\u001b[0m\u001b[0;34m)\u001b[0m\u001b[0;34m,\u001b[0m \u001b[0mprotocol\u001b[0m\u001b[0;34m=\u001b[0m\u001b[0;36m2\u001b[0m\u001b[0;34m)\u001b[0m\u001b[0;34m\u001b[0m\u001b[0;34m\u001b[0m\u001b[0m\n\u001b[1;32m     91\u001b[0m         \u001b[0minit_barrier\u001b[0m\u001b[0;34m(\u001b[0m\u001b[0;34m)\u001b[0m\u001b[0;34m\u001b[0m\u001b[0;34m\u001b[0m\u001b[0m\n\u001b[0;32m---> 92\u001b[0;31m         \u001b[0mhash_check\u001b[0m\u001b[0;34m(\u001b[0m\u001b[0mpk\u001b[0m\u001b[0;34m.\u001b[0m\u001b[0mload\u001b[0m\u001b[0;34m(\u001b[0m\u001b[0mopen\u001b[0m\u001b[0;34m(\u001b[0m\u001b[0mfn\u001b[0m\u001b[0;34m,\u001b[0m \u001b[0;34m'rb'\u001b[0m\u001b[0;34m)\u001b[0m\u001b[0;34m)\u001b[0m\u001b[0;34m,\u001b[0m \u001b[0mself\u001b[0m\u001b[0;34m.\u001b[0m\u001b[0mhashdict\u001b[0m\u001b[0;34m(\u001b[0m\u001b[0;34m)\u001b[0m\u001b[0;34m)\u001b[0m\u001b[0;34m\u001b[0m\u001b[0;34m\u001b[0m\u001b[0m\n\u001b[0m\u001b[1;32m     93\u001b[0m \u001b[0;34m\u001b[0m\u001b[0m\n\u001b[1;32m     94\u001b[0m         \u001b[0mself\u001b[0m\u001b[0;34m.\u001b[0m\u001b[0mbarrier\u001b[0m \u001b[0;34m=\u001b[0m \u001b[0mpbs\u001b[0m\u001b[0;34m.\u001b[0m\u001b[0mbarrier\u001b[0m \u001b[0;32mif\u001b[0m \u001b[0m_runtimebarriers\u001b[0m \u001b[0;32melse\u001b[0m \u001b[0;32mlambda\u001b[0m\u001b[0;34m:\u001b[0m \u001b[0;34m-\u001b[0m\u001b[0;36m1\u001b[0m\u001b[0;34m\u001b[0m\u001b[0;34m\u001b[0m\u001b[0m\n",
      "\u001b[0;32m~/PycharmProjects/lensit/lensit/sims/sims_generic.py\u001b[0m in \u001b[0;36mhash_check\u001b[0;34m(hash1, hash2, ignore, keychain)\u001b[0m\n\u001b[1;32m    248\u001b[0m         \u001b[0;32melse\u001b[0m\u001b[0;34m:\u001b[0m\u001b[0;34m\u001b[0m\u001b[0;34m\u001b[0m\u001b[0m\n\u001b[1;32m    249\u001b[0m             \u001b[0;32mif\u001b[0m \u001b[0;32mnot\u001b[0m \u001b[0;34m(\u001b[0m\u001b[0mv1\u001b[0m \u001b[0;34m==\u001b[0m \u001b[0mv2\u001b[0m\u001b[0;34m)\u001b[0m\u001b[0;34m:\u001b[0m\u001b[0;34m\u001b[0m\u001b[0;34m\u001b[0m\u001b[0m\n\u001b[0;32m--> 250\u001b[0;31m                 \u001b[0mhashfail\u001b[0m\u001b[0;34m(\u001b[0m\u001b[0;34m'UNEQUAL VALUES'\u001b[0m\u001b[0;34m)\u001b[0m\u001b[0;34m\u001b[0m\u001b[0;34m\u001b[0m\u001b[0m\n\u001b[0m",
      "\u001b[0;32m~/PycharmProjects/lensit/lensit/sims/sims_generic.py\u001b[0m in \u001b[0;36mhashfail\u001b[0;34m(msg)\u001b[0m\n\u001b[1;32m    237\u001b[0m             \u001b[0mprint\u001b[0m\u001b[0;34m(\u001b[0m\u001b[0;34m\"   \"\u001b[0m\u001b[0;34m,\u001b[0m \u001b[0;34m\"V1 = \"\u001b[0m\u001b[0;34m,\u001b[0m \u001b[0mv1\u001b[0m\u001b[0;34m)\u001b[0m\u001b[0;34m\u001b[0m\u001b[0;34m\u001b[0m\u001b[0m\n\u001b[1;32m    238\u001b[0m             \u001b[0mprint\u001b[0m\u001b[0;34m(\u001b[0m\u001b[0;34m\"   \"\u001b[0m\u001b[0;34m,\u001b[0m \u001b[0;34m\"V2 = \"\u001b[0m\u001b[0;34m,\u001b[0m \u001b[0mv2\u001b[0m\u001b[0;34m)\u001b[0m\u001b[0;34m\u001b[0m\u001b[0;34m\u001b[0m\u001b[0m\n\u001b[0;32m--> 239\u001b[0;31m             \u001b[0;32massert\u001b[0m \u001b[0;36m0\u001b[0m\u001b[0;34m\u001b[0m\u001b[0;34m\u001b[0m\u001b[0m\n\u001b[0m\u001b[1;32m    240\u001b[0m \u001b[0;34m\u001b[0m\u001b[0m\n\u001b[1;32m    241\u001b[0m         \u001b[0;32mif\u001b[0m \u001b[0mtype\u001b[0m\u001b[0;34m(\u001b[0m\u001b[0mv1\u001b[0m\u001b[0;34m)\u001b[0m \u001b[0;34m!=\u001b[0m \u001b[0mtype\u001b[0m\u001b[0;34m(\u001b[0m\u001b[0mv2\u001b[0m\u001b[0;34m)\u001b[0m\u001b[0;34m:\u001b[0m\u001b[0;34m\u001b[0m\u001b[0;34m\u001b[0m\u001b[0m\n",
      "\u001b[0;31mAssertionError\u001b[0m: "
     ]
    }
   ],
   "source": [
    "from lensit.ffs_iterators.ffs_iterator import ffs_iterator_pertMF\n",
    "from lensit.misc.misc_utils import gauss_beam\n",
    "from lensit.qcinv import ffs_ninv_filt_ideal, chain_samples\n",
    "from lensit.ffs_covs import ell_mat\n",
    "\n",
    "def get_itlib(lib_dir, plm0, lib_qlm,  datalms, lib_datalm, H0, beam_fwhmamin=3., NlevT_filt=1.5, NlevP_filt=1.5 * np.sqrt(2.)):\n",
    "    \"\"\"\n",
    "    This returns an iterator instance from the input data maps, lensing map starting point,\n",
    "    likelihood curvature guess and choice of filtering parameters (ideally close to those of the data).\n",
    "    \"\"\"\n",
    "\n",
    "    if not os.path.exists(lib_dir): \n",
    "        os.makedirs(lib_dir)\n",
    "    # Prior on lensing power spectrum, and CMB spectra for the filtering at each iteration step.\n",
    "    cls_unl = li.get_fidcls(6000)[0]\n",
    "    cpp_prior = cls_unl['pp'][:]\n",
    "    \n",
    "    \n",
    "    lib_skyalm = ell_mat.ffs_alm_pyFFTW(lib_datalm.ell_mat, filt_func=lambda ell:ell<=6000)\n",
    "                            #: This means we perform here the lensing of CMB skies at the same resolution \n",
    "                            #  than the data with the band-limit of 6000.\n",
    "    transf = gauss_beam(beam_fwhmamin / 180. / 60. * np.pi, lmax=6000) #: fiducial beam\n",
    "    \n",
    "    # Anisotropic filtering instance, with unlensed CMB spectra as inputs. Delfections will be added by the iterator.\n",
    "    filt = ffs_ninv_filt_ideal.ffs_ninv_filt(lib_datalm, lib_skyalm, cls_unl, transf, NlevT_filt,NlevP_filt)\n",
    "    \n",
    "    # Description of the multi-grid chain to use: (here the simplest, diagonal pre-conditioner) \n",
    "    chain_descr = chain_samples.get_isomgchain(filt.lib_skyalm.ellmax,filt.lib_datalm.shape,\n",
    "                                                        tol=1e-6,iter_max=200)\n",
    "    \n",
    "    # We assume no primordial B-modes, the E-B filtering will assume all B-modes are either noise or lensing:\n",
    "    opfilt =  li.qcinv.opfilt_cinv_noBB\n",
    "    opfilt._type = 'QU' # We consider polarization only\n",
    "    \n",
    "    # With all this now in place, we can build the iterator instance:\n",
    "    iterator = ffs_iterator_pertMF(lib_dir, 'QU', filt, datalms, lib_qlm, \n",
    "              plm0, H0, cpp_prior, chain_descr=chain_descr, opfilt=opfilt, verbose=True)\n",
    "               # We use here an iterator instance that uses an analytical approximation \n",
    "               # for the mean-field term at each step.\n",
    "    return iterator\n",
    "\n",
    "\n",
    "lib_dir = os.path.join(os.environ['LENSIT'], 'temp', 'iterator_S4_sim%03d'%0)\n",
    "itlib = get_itlib(lib_dir, plm0, lib_qlm, datalms, lib_datalm, H0)"
   ]
  },
  {
   "cell_type": "markdown",
   "metadata": {},
   "source": [
    "### 3. We perform the iterations:\n",
    "This should take about ~ 1 min. to finish. A lot of print-out in verbose mode."
   ]
  },
  {
   "cell_type": "code",
   "execution_count": null,
   "metadata": {},
   "outputs": [],
   "source": [
    "itlib.soltn_cond = True\n",
    "for i in range(3):\n",
    "    itlib.iterate(i, 'p')"
   ]
  },
  {
   "cell_type": "markdown",
   "metadata": {},
   "source": [
    "### 4. We have a quick look at the quality of the lensing map reconstruction:\n",
    "We plot the binned power spectrum of the residual map\n",
    "$$\n",
    "\\hat \\phi - \\phi^{\\rm input}\n",
    "$$\n"
   ]
  },
  {
   "cell_type": "code",
   "execution_count": null,
   "metadata": {},
   "outputs": [],
   "source": [
    "ell, = np.where(itlib.lib_qlm.get_Nell()[:3001])\n",
    "w = lambda ell : ell ** 2 * (ell + 1.) ** 2 /2./np.pi * 1e7\n",
    "edges = np.arange(0, 3100, 100)\n",
    "bl = edges[:-1];bu = edges[1:] \n",
    "\n",
    "sims = li.get_maps_lib('S4', 10, 11)\n",
    "plm_input = itlib.lib_qlm.udgrade(sims.lencmbs.lib_skyalm, sims.lencmbs.get_sim_plm(0))\n",
    "bnd_cl = lambda cl : li.misc.misc_utils.binned(cl, ell, bl, bu, w=w, return_err=True)\n",
    "pl.figure(figsize= (10,5))\n",
    "for it in range(3):\n",
    "    cl, err = bnd_cl(itlib.lib_qlm.alm2cl(itlib.get_Plm(it, 'p') - plm_input)) \n",
    "    pl.errorbar(0.5 * bl + 0.5 * bu, cl, yerr=err, label='Iter. %s'%it + (it == 0) * ' (Q.E.)')\n",
    "pl.plot(ell, li.get_fidcls()[0]['pp'][ell] * w(ell), c='k', label=r'$C_L^{\\phi\\phi, \\rm fid}$')\n",
    "pl.ylabel(r'$10^7\\: L^2(L + 1)^2 C^{\\hat \\phi - \\phi^{\\rm in}}_L /2 \\pi$', fontsize=20)\n",
    "pl.xlabel(r'$L$', fontsize=14)\n",
    "pl.legend(ncol=3, fontsize=14)\n",
    "pl.semilogy()"
   ]
  },
  {
   "cell_type": "markdown",
   "metadata": {},
   "source": [
    "### This file contains very crude information on the iterator work and likelihood gradient amplitudes:"
   ]
  },
  {
   "cell_type": "code",
   "execution_count": null,
   "metadata": {},
   "outputs": [],
   "source": [
    "cat /Users/jcarron/PyCharmProjects/lensit/temp/iterator_S4_sim000/history_increment.txt"
   ]
  },
  {
   "cell_type": "markdown",
   "metadata": {},
   "source": [
    "### Lensing maps: \n",
    "we plot the deflection $\\hat \\alpha_{LM} = \\sqrt{L (L + 1)} \\hat \\phi_{LM}$"
   ]
  },
  {
   "cell_type": "code",
   "execution_count": null,
   "metadata": {},
   "outputs": [],
   "source": [
    "plm2alphalm = lambda plm : lib_qlm.almxfl(plm, np.arange(lib_qlm.ellmax + 1))\n",
    "fig, ax = pl.subplots(1, 3, figsize=(18, 6),)\n",
    "vmax = np.max(np.abs(lib_qlm.alm2map(plm2alphalm(plm_input))))\n",
    "ax[0].imshow(lib_qlm.alm2map(plm2alphalm(itlib.get_Plm(0, 'p'))), vmax=vmax, vmin=-vmax)\n",
    "ax[1].imshow(lib_qlm.alm2map(plm2alphalm(itlib.get_Plm(2, 'p'))), vmax=vmax, vmin=-vmax)\n",
    "ax[2].imshow(lib_qlm.alm2map(plm2alphalm(plm_input)), vmax=vmax, vmin=-vmax)\n",
    "ax[0].set_title(r'$\\hat \\alpha^{Q.E.}$', fontsize=20), ax[0].axis('off')\n",
    "ax[1].set_title(r'$\\hat \\alpha^{Iter}$', fontsize=20), ax[1].axis('off')\n",
    "ax[2].set_title(r'$\\alpha^{\\rm input}$', fontsize=20), ax[2].axis('off')"
   ]
  }
 ],
 "metadata": {
  "kernelspec": {
   "display_name": "Python 3",
   "language": "python",
   "name": "python3"
  },
  "language_info": {
   "codemirror_mode": {
    "name": "ipython",
    "version": 3
   },
   "file_extension": ".py",
   "mimetype": "text/x-python",
   "name": "python",
   "nbconvert_exporter": "python",
   "pygments_lexer": "ipython3",
   "version": "3.7.3"
  }
 },
 "nbformat": 4,
 "nbformat_minor": 2
}
